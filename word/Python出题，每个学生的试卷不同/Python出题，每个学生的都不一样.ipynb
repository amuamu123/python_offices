{
 "cells": [
  {
   "cell_type": "markdown",
   "metadata": {},
   "source": [
    "还在为考试时学生作弊抄答案而烦恼吗？没关系，Python提供私人订制考试题服务，保证每个学生拿到的题目不一样。万恶的Python，妈妈再也不用担心我能作弊抄同学答案了。"
   ]
  },
  {
   "cell_type": "markdown",
   "metadata": {},
   "source": [
    "这是题库，分为单选题565道、多选题195道、判断题417道和填空题189道。每套题总分100，单选题40分，每题1分；多选题40分，每题2分；判断题和填空题各10分，每题1分。因此需要随机从单选题中抽出40题，多选题抽出20题，判断和填空题中各抽出10题，即可形成一份试卷。\n",
    "![](images\\exam.png)"
   ]
  },
  {
   "cell_type": "markdown",
   "metadata": {},
   "source": [
    "首先，根据每种题型的数量，在该数量范围内生成不重复随机整数。这些数就是题库中的题目对应的行数。如下，定义了一个具有这样功能的函数。需要传入两个参数，一个是“最大数”`num_max`，决定生成随机数的最大数；另一个是“随机数的个数”`num_qty`，决定生成随机数的个数。比如我们要从417道判断题中随机抽10到，那传入函数的参数就是`Random_num(418, 10)`。为什么最大数是418呢？不是说好的417道题吗？那是因为题库中，第2行开始才是题目，所以在选择行数的时候，最大能选到第418行。那我们生成随机数的时候，也要从2开始，而不是1，因为第一行不是题目。这里用了`while`语句控制随机数的个数，当用于储存随机数的列表`num_list`中整数的个数达到设定的上限时，停止程序。"
   ]
  },
  {
   "cell_type": "code",
   "execution_count": 1,
   "metadata": {
    "scrolled": false
   },
   "outputs": [],
   "source": [
    "import random\n",
    "#不重复随机整数生成函数\n",
    "def Random_num(num_max, num_qty):\n",
    "    '''\n",
    "    num_max:最大数\n",
    "    num_qty:生成随机数的个数\n",
    "    '''\n",
    "    num_list = [] #储存生成的随机数\n",
    "    while len(num_list) < num_qty: #控制随机数的个数\n",
    "        num = random.randint(2,num_max) #设定在此范围内取数\n",
    "        if num in num_list: #判断随机数是否重复\n",
    "            continue #若重复，则重新生成\n",
    "        else:\n",
    "            num_list.append(num) #将不重复的随机数放入列表\n",
    "    return num_list #生成完成后返回随机数列表"
   ]
  },
  {
   "cell_type": "markdown",
   "metadata": {},
   "source": [
    "调用以上函数，在2~418这个范围内取10个数，结果如下。"
   ]
  },
  {
   "cell_type": "code",
   "execution_count": 2,
   "metadata": {},
   "outputs": [
    {
     "data": {
      "text/plain": [
       "[407, 93, 174, 341, 368, 292, 210, 301, 343, 79]"
      ]
     },
     "execution_count": 2,
     "metadata": {},
     "output_type": "execute_result"
    }
   ],
   "source": [
    "Random_num(418, 10)"
   ]
  },
  {
   "cell_type": "markdown",
   "metadata": {},
   "source": [
    "然后定义函数`Question`，按上面生成的整数在题库中抽取对应行的题目。这个函数传入两个参数，一个是`que_type`，用于确定试题类型（\"单选题\",\"多选题\",\"判断题\",\"填空题\"）。因为不同的题型对应的答案个数可能是不同的，所以需要分别处理。另一个参数是`numbers`，就是题目的编号，来自于上面生成的随机数列表，我们就依据这些数去题库中提取对应编号的题目。然后根据传入的题目类型，去到对应的Excel工作表，按需要抽取对应行的单元格里的数据，将每行的数据存入`single_question`列表，然后再加入总列表`questions`。\n",
    "<br/>\n",
    "<br/>对于多选题，因为有些有E选项，有些没有，所以需要加入一个`if`判断语句。只有当E选项对应的单元格不为空，才将其值插入到答案的前面`insert(-1,answerE)`，以保证答案始终在列表的最后面。"
   ]
  },
  {
   "cell_type": "code",
   "execution_count": 3,
   "metadata": {},
   "outputs": [],
   "source": [
    "#定义函数，按随机数在题库中抽取对应编号的题目\n",
    "from openpyxl import load_workbook\n",
    "def Question(que_type,numbers):\n",
    "    '''\n",
    "    que_type:试题类型（\"单选题\",\"多选题\",\"判断题\",\"填空题\"）\n",
    "    numbers:需要抽取的试题编号\n",
    "    '''\n",
    "    questions = [] #储存抽取的题目\n",
    "    wb = load_workbook(\"题库.xlsx\") #载入题库\n",
    "    if que_type == \"单选题\":\n",
    "        ws = wb[que_type]        \n",
    "        for i in numbers: #按随机生成的编号抽题\n",
    "            question = ws[\"B\"+str(i)].value #问题在B列\n",
    "            answerA = \"A：\\t\" + str(ws[\"C\"+str(i)].value) #选项A在C列，\"\\t\"相当于按一下tab键，在字符间产生间隔\n",
    "            answerB = \"B：\\t\" + str(ws[\"D\"+str(i)].value) #选项B在D列\n",
    "            answerC = \"C：\\t\" + str(ws[\"E\"+str(i)].value) #选项C在E列\n",
    "            answerD = \"D：\\t\" + str(ws[\"F\"+str(i)].value) #选项D在F列\n",
    "            right_answer  = ws[\"G\"+str(i)].value #正确答案在G列\n",
    "            single_question = [question, answerA, answerB, answerC, answerD, right_answer] #每行的数据存入列表\n",
    "            questions.append(single_question) #每个题目的数据存入总列表\n",
    "    elif que_type == \"多选题\":\n",
    "        ws = wb[que_type]        \n",
    "        for i in numbers:\n",
    "            question = ws[\"B\"+str(i)].value            \n",
    "            answerA = \"A：\\t\" + str(ws[\"C\"+str(i)].value)\n",
    "            answerB = \"B：\\t\" + str(ws[\"D\"+str(i)].value)\n",
    "            answerC = \"C：\\t\" + str(ws[\"E\"+str(i)].value)\n",
    "            answerD = \"D：\\t\" + str(ws[\"F\"+str(i)].value)\n",
    "            right_answer  = ws[\"H\"+str(i)].value\n",
    "            single_question = [question, answerA, answerB, answerC, answerD, right_answer]\n",
    "            if ws[\"G\"+str(i)].value: #有些题有E选项，有些没有，因此需要判断一下是否有E选项\n",
    "                answerE = \"E：\\t\" + str(ws[\"G\"+str(i)].value)\n",
    "                single_question.insert(-1,answerE) #将E选项插入到答案前面，保持答案是最后一个元素\n",
    "            questions.append(single_question)\n",
    "    else: #判断题和填空题，内容只取题干和答案\n",
    "        ws = wb[que_type]        \n",
    "        for i in numbers:\n",
    "            question = ws[\"B\"+str(i)].value\n",
    "            right_answer  = ws[\"C\"+str(i)].value\n",
    "            single_question = [question, right_answer]\n",
    "            questions.append(single_question)\n",
    "            \n",
    "    return questions"
   ]
  },
  {
   "cell_type": "markdown",
   "metadata": {},
   "source": [
    "我们调用函数，查看一下多选题的获取情况，非常满意。有E选项的也处理得很好。"
   ]
  },
  {
   "cell_type": "code",
   "execution_count": 5,
   "metadata": {
    "scrolled": true
   },
   "outputs": [
    {
     "data": {
      "text/plain": [
       "[['在幻灯片窗格中，选择多个对象可以（   ）。',\n",
       "  'A：\\t单击一个对象后，按住Ctrl键，再单击其他对象',\n",
       "  'B：\\t单击一个对象后，按住Shift键，再单击其他对象',\n",
       "  'C：\\t分别单击每一个要选择的对象',\n",
       "  'D：\\t选择矩形图画工具，利用鼠标在包含这些对象的区域中画一个框',\n",
       "  'E：\\t不使任何画图工具和命令，直接用鼠标在包含这些对象的区域中拖一个框',\n",
       "  'ABE'],\n",
       " ['CPU能直接访问的存储器是（    ）。',\n",
       "  'A：\\tROM',\n",
       "  'B：\\tRAM',\n",
       "  'C：\\tCache',\n",
       "  'D：\\t外存储器',\n",
       "  'ABC'],\n",
       " ['在PowerPoint中，以下叙述正确的有（   ）。',\n",
       "  'A：\\t一个演示文稿中只能有一张应用\"标题幻灯片\"母板的幻灯片',\n",
       "  'B：\\t在任一时刻，幻灯片窗格内只能查看或编辑一张幻灯片',\n",
       "  'C：\\t在幻灯片上可以插入多种对象，除了可以插入图片、图表外，还可以插入声音、公式和视频等',\n",
       "  'D：\\t备注页的内容与幻灯片内容分别存储在两个不同的文件中',\n",
       "  'BC'],\n",
       " ['在使用PowerPoint 2000的幻灯片放映视图放映演示文稿过程中，要结束放映，可操作的方法有（   ）。',\n",
       "  'A：\\t按Ctrl＋E键',\n",
       "  'B：\\t按回车键',\n",
       "  'C：\\t单击鼠标右键，从弹出的快捷菜单中选中\"结束放映\"或Esc键',\n",
       "  'D：\\t单击放映屏幕左下角的上三角按钮，在弹出的菜单中选中\"结束放映\"',\n",
       "  'E：\\t双击放映屏幕左下角的上三角按钮，在弹出的菜单中选中\"结束放映\"',\n",
       "  'CD'],\n",
       " ['下列有关因特网能够吸引人的原因的说法，正确的是（   ）。',\n",
       "  'A：\\t因特网提供了丰富信息资源',\n",
       "  'B：\\t因特网提供了富有想像力的交流功能',\n",
       "  'C：\\t因特网不具有交互性',\n",
       "  'D：\\t因特网具有及时反馈的特征',\n",
       "  'E：\\t因特网可以给每个人赚大钱',\n",
       "  'ABD']]"
      ]
     },
     "execution_count": 5,
     "metadata": {},
     "output_type": "execute_result"
    }
   ],
   "source": [
    "Question(\"多选题\",Random_num(196,20))[10:15]"
   ]
  },
  {
   "cell_type": "markdown",
   "metadata": {},
   "source": [
    "题目抽取好后，就要写入Word文档了。我们先建好了试题模板，把抬头的部分先写好了，后续只需写入题目，并调整一下字体格式就行了。\n",
    "![](images\\temp.png)"
   ]
  },
  {
   "cell_type": "markdown",
   "metadata": {},
   "source": [
    "建立一个写入函数`To_word`，需要传入两个参数，一个是`number`，用于给考试题编号，比如“考试题1，考试题2...”。另一个参数就是包含试题内容的字典`questions_data`。我们按照“单选题”、“多选题”、“判断题”和“填空题”的顺序分别写入。每种题型的标题单独写为一段，并设置字体加粗，字号加大到12磅。然后再给题目编号，逐个写入。对于多选题，还是要搞下特殊，要用`if`语句判断一下是否有E选项（有E选项的,其列表中的元素才有7个，不然只有6个(`len(i) ==7`)），若有才新建一段写入。最后将考试题按编号命名，并存入“试卷及答案”文件夹。"
   ]
  },
  {
   "cell_type": "code",
   "execution_count": 6,
   "metadata": {},
   "outputs": [],
   "source": [
    "#写入考试题到word文件\n",
    "from docx import Document\n",
    "from docx.shared import Pt #用于设定字体大小（磅值）\n",
    "from docx.oxml.ns import qn #用于应用中文字体\n",
    "def To_word(number,questions_data):\n",
    "    doc = Document(\"试题-模板.docx\")\n",
    "\n",
    "    #写入单选题\n",
    "    title1 = \"一、单项选择题（共40题，每题1分）\"\n",
    "    p = doc.add_paragraph() #插入段落\n",
    "    r = p.add_run(title1) #插入文字块\n",
    "    r.bold = True #字体加粗\n",
    "    r.font.size = Pt(12) #字号设为12磅\n",
    "    for index, i in enumerate(questions_data[\"单选题\"],start = 1): #给题目从1开始编号\n",
    "        doc.add_paragraph(f\"{index}. {i[0]}\") #题干部分在单独一段\n",
    "        doc.add_paragraph(f\"\\t{i[1]}\\t\\t{i[2]}\") #选项A和选项B在同一段落\n",
    "        doc.add_paragraph(f\"\\t{i[3]}\\t\\t{i[4]}\") #选项C和选项D在同一段落\n",
    "\n",
    "    #写入多选题\n",
    "    title2 = \"二、多项选择题（共20题，每题2分）\"\n",
    "    p = doc.add_paragraph()\n",
    "    r = p.add_run(title2)\n",
    "    r.bold = True\n",
    "    r.font.size = Pt(12)\n",
    "    for index, i in enumerate(questions_data[\"多选题\"],start = 1):\n",
    "        doc.add_paragraph(f\"{index}. {i[0]}\")\n",
    "        doc.add_paragraph(f\"\\t{i[1]}\\t\\t{i[2]}\")\n",
    "        doc.add_paragraph(f\"\\t{i[3]}\\t\\t{i[4]}\")\n",
    "        if len(i) ==7: #判断是否有E选项，若有，则新建一段落写入\n",
    "            doc.add_paragraph(f\"\\t{i[5]}\")\n",
    "\n",
    "    #写入判断题\n",
    "    title3 = \"三、判断题（共10题，每题1分）\"\n",
    "    p = doc.add_paragraph()\n",
    "    r = p.add_run(title3)\n",
    "    r.bold = True\n",
    "    r.font.size = Pt(12)\n",
    "    for index, i in enumerate(questions_data[\"判断题\"],start = 1):\n",
    "        doc.add_paragraph(f\"\\t{index}. {i[0]}\")\n",
    "\n",
    "    #写入填空题\n",
    "    title4 = \"四、填空题（共10题，每题1分）\"\n",
    "    p = doc.add_paragraph()\n",
    "    r = p.add_run(title4)\n",
    "    r.bold = True\n",
    "    r.font.size = Pt(12)\n",
    "    for index, i in enumerate(questions_data[\"填空题\"],start = 1):\n",
    "        doc.add_paragraph(f\"\\t{index}. {i[0]}\")\n",
    "\n",
    "    doc.save(f\"试卷及答案\\\\考试题{number}.docx\")"
   ]
  },
  {
   "cell_type": "markdown",
   "metadata": {},
   "source": [
    "为了方便改试卷的时候参考答案，还得给对应的试题准备一份答案，不然最后老师太受累。我们在提取试题信息的时候就留了一手，将答案也提取在列表里了，只需将其单独写入一个word文件即可。如下是写入答案的函数`Answer`，其中需传入两个参数，一个是`number`，用于在保存文件时给考试题答案编号。另一个参数就是包含答案内容的字典`questions_data`。我们按照“单选题”、“多选题”、“判断题”和“填空题”的顺序分别写入。为了让答案看起来规整，通过`index%10 == 0`设置了每段显示的答案个数。这个意思就是，当每段有10个答案的时候，就执行下面“新建一个段落”的语句`p = doc.add_paragraph()`。由于每种题型的答案的字符串长度不同，这个需要根据实际显示效果做微调。"
   ]
  },
  {
   "cell_type": "code",
   "execution_count": 7,
   "metadata": {},
   "outputs": [],
   "source": [
    "#写入答案\n",
    "from docx import Document\n",
    "from docx.shared import Pt #用于设定字体大小（磅值）\n",
    "from docx.oxml.ns import qn #用于应用中文字体\n",
    "\n",
    "def Answer(number,questions_data):\n",
    "    doc = Document()\n",
    "    #全局字体设为“宋体”\n",
    "    doc.styles['Normal'].font.name=u'宋体'\n",
    "    doc.styles['Normal']._element.rPr.rFonts.set(qn('w:eastAsia'), u'宋体')\n",
    "    \n",
    "    title = \"计算机系2020第二学期期末考试题(答案)\"\n",
    "    p = doc.add_paragraph()\n",
    "    r = p.add_run(title)\n",
    "    r.bold = True\n",
    "    r.font.size = Pt(20)\n",
    "    #写入单选题答案\n",
    "    title1 = \"一、单项选择题答案（共40题，每题1分）\"\n",
    "    p = doc.add_paragraph()\n",
    "    r = p.add_run(title1)\n",
    "    r.bold = True\n",
    "    r.font.size = Pt(12)\n",
    "    \n",
    "    p = doc.add_paragraph()\n",
    "    for index, i in enumerate(questions_data[\"单选题\"],start = 1):\n",
    "        p.add_run(f\"{index}. {i[-1]}\\t\")\n",
    "        if index%10 == 0: #每段只显示10个答案\n",
    "            p = doc.add_paragraph() #满10个，则新建段落\n",
    "\n",
    "    #写入多选题答案\n",
    "    title2 = \"二、多项选择题答案（共20题，每题2分）\"\n",
    "    p = doc.add_paragraph()\n",
    "    r = p.add_run(title2)\n",
    "    r.bold = True\n",
    "    r.font.size = Pt(12)\n",
    "    p = doc.add_paragraph()\n",
    "    for index, i in enumerate(questions_data[\"多选题\"],start = 1):\n",
    "        p.add_run(f\"{index}. {i[-1]}\\t\")\n",
    "        if index%3 == 0: \n",
    "            p = doc.add_paragraph() \n",
    "        \n",
    "    #写入判断题答案\n",
    "    title3 = \"三、判断题答案（共10题，每题1分）\"\n",
    "    p = doc.add_paragraph()\n",
    "    r = p.add_run(title3)\n",
    "    r.bold = True\n",
    "    r.font.size = Pt(12)\n",
    "    p = doc.add_paragraph()\n",
    "    for index, i in enumerate(questions_data[\"判断题\"],start = 1):\n",
    "        p.add_run(f\"{index}. {i[-1]}\\t\")\n",
    "        if index%5 == 0: #每段只显示5个答案\n",
    "            p = doc.add_paragraph() #满5个，则新建段落\n",
    "\n",
    "    #写入填空题\n",
    "    title4 = \"四、填空题答案（共10题，每题1分）\"\n",
    "    p = doc.add_paragraph()\n",
    "    r = p.add_run(title4)\n",
    "    r.bold = True\n",
    "    r.font.size = Pt(12)\n",
    "    p = doc.add_paragraph()\n",
    "    for index, i in enumerate(questions_data[\"填空题\"],start = 1):\n",
    "        p.add_run(f\"{index}. {i[-1]}\\t\\t\")\n",
    "        if index%2 == 0: #每段只显示2个答案\n",
    "            p = doc.add_paragraph() #满2个，则新建段落\n",
    "            \n",
    "    doc.save(f\"试卷及答案\\\\考试题{number}答案.docx\")"
   ]
  },
  {
   "cell_type": "markdown",
   "metadata": {},
   "source": [
    "以上准备工作做好后，就可以开始写主函数，批量生成考试题和对应的答案了。用`for`循环确定需要的不同试卷的套数，这里以20套为例。然后调用`Random_num`生成四组随机数，分别对应四种题型的题目数量。然后将随机数存入字典`question_num`。再调用`Question`函数从题库中抽取对应编号的题目，存入字典`questions_data`。最后调用`To_word`和`Answer`函数，将试题和答案写入并保存为word文件。"
   ]
  },
  {
   "cell_type": "code",
   "execution_count": 8,
   "metadata": {
    "collapsed": true
   },
   "outputs": [
    {
     "name": "stdout",
     "output_type": "stream",
     "text": [
      "试卷1及答案完成！\n",
      "试卷2及答案完成！\n"
     ]
    },
    {
     "ename": "KeyboardInterrupt",
     "evalue": "",
     "output_type": "error",
     "traceback": [
      "\u001b[1;31m---------------------------------------------------------------------------\u001b[0m",
      "\u001b[1;31mKeyboardInterrupt\u001b[0m                         Traceback (most recent call last)",
      "\u001b[1;32m<ipython-input-8-2e1de3832b8d>\u001b[0m in \u001b[0;36m<module>\u001b[1;34m\u001b[0m\n\u001b[0;32m     15\u001b[0m     questions_data = {\n\u001b[0;32m     16\u001b[0m         \u001b[1;34m\"单选题\"\u001b[0m\u001b[1;33m:\u001b[0m\u001b[0mQuestion\u001b[0m\u001b[1;33m(\u001b[0m\u001b[1;34m\"单选题\"\u001b[0m\u001b[1;33m,\u001b[0m\u001b[0mquestion_num\u001b[0m\u001b[1;33m[\u001b[0m\u001b[1;34m\"单选题号\"\u001b[0m\u001b[1;33m]\u001b[0m\u001b[1;33m)\u001b[0m\u001b[1;33m,\u001b[0m\u001b[1;33m\u001b[0m\u001b[1;33m\u001b[0m\u001b[0m\n\u001b[1;32m---> 17\u001b[1;33m         \u001b[1;34m\"多选题\"\u001b[0m\u001b[1;33m:\u001b[0m\u001b[0mQuestion\u001b[0m\u001b[1;33m(\u001b[0m\u001b[1;34m\"多选题\"\u001b[0m\u001b[1;33m,\u001b[0m\u001b[0mquestion_num\u001b[0m\u001b[1;33m[\u001b[0m\u001b[1;34m\"多选题号\"\u001b[0m\u001b[1;33m]\u001b[0m\u001b[1;33m)\u001b[0m\u001b[1;33m,\u001b[0m\u001b[1;33m\u001b[0m\u001b[1;33m\u001b[0m\u001b[0m\n\u001b[0m\u001b[0;32m     18\u001b[0m         \u001b[1;34m\"判断题\"\u001b[0m\u001b[1;33m:\u001b[0m\u001b[0mQuestion\u001b[0m\u001b[1;33m(\u001b[0m\u001b[1;34m\"判断题\"\u001b[0m\u001b[1;33m,\u001b[0m\u001b[0mquestion_num\u001b[0m\u001b[1;33m[\u001b[0m\u001b[1;34m\"判断题号\"\u001b[0m\u001b[1;33m]\u001b[0m\u001b[1;33m)\u001b[0m\u001b[1;33m,\u001b[0m\u001b[1;33m\u001b[0m\u001b[1;33m\u001b[0m\u001b[0m\n\u001b[0;32m     19\u001b[0m         \u001b[1;34m\"填空题\"\u001b[0m\u001b[1;33m:\u001b[0m\u001b[0mQuestion\u001b[0m\u001b[1;33m(\u001b[0m\u001b[1;34m\"填空题\"\u001b[0m\u001b[1;33m,\u001b[0m\u001b[0mquestion_num\u001b[0m\u001b[1;33m[\u001b[0m\u001b[1;34m\"填空题号\"\u001b[0m\u001b[1;33m]\u001b[0m\u001b[1;33m)\u001b[0m\u001b[1;33m\u001b[0m\u001b[1;33m\u001b[0m\u001b[0m\n",
      "\u001b[1;32m<ipython-input-3-060efe088833>\u001b[0m in \u001b[0;36mQuestion\u001b[1;34m(que_type, numbers)\u001b[0m\n\u001b[0;32m      7\u001b[0m     '''\n\u001b[0;32m      8\u001b[0m     \u001b[0mquestions\u001b[0m \u001b[1;33m=\u001b[0m \u001b[1;33m[\u001b[0m\u001b[1;33m]\u001b[0m \u001b[1;31m#储存抽取的题目\u001b[0m\u001b[1;33m\u001b[0m\u001b[1;33m\u001b[0m\u001b[0m\n\u001b[1;32m----> 9\u001b[1;33m     \u001b[0mwb\u001b[0m \u001b[1;33m=\u001b[0m \u001b[0mload_workbook\u001b[0m\u001b[1;33m(\u001b[0m\u001b[1;34m\"题库.xlsx\"\u001b[0m\u001b[1;33m)\u001b[0m \u001b[1;31m#载入题库\u001b[0m\u001b[1;33m\u001b[0m\u001b[1;33m\u001b[0m\u001b[0m\n\u001b[0m\u001b[0;32m     10\u001b[0m     \u001b[1;32mif\u001b[0m \u001b[0mque_type\u001b[0m \u001b[1;33m==\u001b[0m \u001b[1;34m\"单选题\"\u001b[0m\u001b[1;33m:\u001b[0m\u001b[1;33m\u001b[0m\u001b[1;33m\u001b[0m\u001b[0m\n\u001b[0;32m     11\u001b[0m         \u001b[0mws\u001b[0m \u001b[1;33m=\u001b[0m \u001b[0mwb\u001b[0m\u001b[1;33m[\u001b[0m\u001b[0mque_type\u001b[0m\u001b[1;33m]\u001b[0m\u001b[1;33m\u001b[0m\u001b[1;33m\u001b[0m\u001b[0m\n",
      "\u001b[1;32m~\\AppData\\Local\\Continuum\\anaconda3\\lib\\site-packages\\openpyxl\\reader\\excel.py\u001b[0m in \u001b[0;36mload_workbook\u001b[1;34m(filename, read_only, keep_vba, data_only, keep_links)\u001b[0m\n\u001b[0;32m    312\u001b[0m     reader = ExcelReader(filename, read_only, keep_vba,\n\u001b[0;32m    313\u001b[0m                         data_only, keep_links)\n\u001b[1;32m--> 314\u001b[1;33m     \u001b[0mreader\u001b[0m\u001b[1;33m.\u001b[0m\u001b[0mread\u001b[0m\u001b[1;33m(\u001b[0m\u001b[1;33m)\u001b[0m\u001b[1;33m\u001b[0m\u001b[1;33m\u001b[0m\u001b[0m\n\u001b[0m\u001b[0;32m    315\u001b[0m     \u001b[1;32mreturn\u001b[0m \u001b[0mreader\u001b[0m\u001b[1;33m.\u001b[0m\u001b[0mwb\u001b[0m\u001b[1;33m\u001b[0m\u001b[1;33m\u001b[0m\u001b[0m\n",
      "\u001b[1;32m~\\AppData\\Local\\Continuum\\anaconda3\\lib\\site-packages\\openpyxl\\reader\\excel.py\u001b[0m in \u001b[0;36mread\u001b[1;34m(self)\u001b[0m\n\u001b[0;32m    272\u001b[0m     \u001b[1;32mdef\u001b[0m \u001b[0mread\u001b[0m\u001b[1;33m(\u001b[0m\u001b[0mself\u001b[0m\u001b[1;33m)\u001b[0m\u001b[1;33m:\u001b[0m\u001b[1;33m\u001b[0m\u001b[1;33m\u001b[0m\u001b[0m\n\u001b[0;32m    273\u001b[0m         \u001b[0mself\u001b[0m\u001b[1;33m.\u001b[0m\u001b[0mread_manifest\u001b[0m\u001b[1;33m(\u001b[0m\u001b[1;33m)\u001b[0m\u001b[1;33m\u001b[0m\u001b[1;33m\u001b[0m\u001b[0m\n\u001b[1;32m--> 274\u001b[1;33m         \u001b[0mself\u001b[0m\u001b[1;33m.\u001b[0m\u001b[0mread_strings\u001b[0m\u001b[1;33m(\u001b[0m\u001b[1;33m)\u001b[0m\u001b[1;33m\u001b[0m\u001b[1;33m\u001b[0m\u001b[0m\n\u001b[0m\u001b[0;32m    275\u001b[0m         \u001b[0mself\u001b[0m\u001b[1;33m.\u001b[0m\u001b[0mread_workbook\u001b[0m\u001b[1;33m(\u001b[0m\u001b[1;33m)\u001b[0m\u001b[1;33m\u001b[0m\u001b[1;33m\u001b[0m\u001b[0m\n\u001b[0;32m    276\u001b[0m         \u001b[0mself\u001b[0m\u001b[1;33m.\u001b[0m\u001b[0mread_properties\u001b[0m\u001b[1;33m(\u001b[0m\u001b[1;33m)\u001b[0m\u001b[1;33m\u001b[0m\u001b[1;33m\u001b[0m\u001b[0m\n",
      "\u001b[1;32m~\\AppData\\Local\\Continuum\\anaconda3\\lib\\site-packages\\openpyxl\\reader\\excel.py\u001b[0m in \u001b[0;36mread_strings\u001b[1;34m(self)\u001b[0m\n\u001b[0;32m    142\u001b[0m             \u001b[0mstrings_path\u001b[0m \u001b[1;33m=\u001b[0m \u001b[0mct\u001b[0m\u001b[1;33m.\u001b[0m\u001b[0mPartName\u001b[0m\u001b[1;33m[\u001b[0m\u001b[1;36m1\u001b[0m\u001b[1;33m:\u001b[0m\u001b[1;33m]\u001b[0m\u001b[1;33m\u001b[0m\u001b[1;33m\u001b[0m\u001b[0m\n\u001b[0;32m    143\u001b[0m             \u001b[1;32mwith\u001b[0m \u001b[0mself\u001b[0m\u001b[1;33m.\u001b[0m\u001b[0marchive\u001b[0m\u001b[1;33m.\u001b[0m\u001b[0mopen\u001b[0m\u001b[1;33m(\u001b[0m\u001b[0mstrings_path\u001b[0m\u001b[1;33m,\u001b[0m\u001b[1;33m)\u001b[0m \u001b[1;32mas\u001b[0m \u001b[0msrc\u001b[0m\u001b[1;33m:\u001b[0m\u001b[1;33m\u001b[0m\u001b[1;33m\u001b[0m\u001b[0m\n\u001b[1;32m--> 144\u001b[1;33m                 \u001b[0mself\u001b[0m\u001b[1;33m.\u001b[0m\u001b[0mshared_strings\u001b[0m \u001b[1;33m=\u001b[0m \u001b[0mread_string_table\u001b[0m\u001b[1;33m(\u001b[0m\u001b[0msrc\u001b[0m\u001b[1;33m)\u001b[0m\u001b[1;33m\u001b[0m\u001b[1;33m\u001b[0m\u001b[0m\n\u001b[0m\u001b[0;32m    145\u001b[0m \u001b[1;33m\u001b[0m\u001b[0m\n\u001b[0;32m    146\u001b[0m \u001b[1;33m\u001b[0m\u001b[0m\n",
      "\u001b[1;32m~\\AppData\\Local\\Continuum\\anaconda3\\lib\\site-packages\\openpyxl\\reader\\strings.py\u001b[0m in \u001b[0;36mread_string_table\u001b[1;34m(xml_source)\u001b[0m\n\u001b[0;32m     13\u001b[0m     \u001b[0mSTRING_TAG\u001b[0m \u001b[1;33m=\u001b[0m \u001b[1;34m'{%s}si'\u001b[0m \u001b[1;33m%\u001b[0m \u001b[0mSHEET_MAIN_NS\u001b[0m\u001b[1;33m\u001b[0m\u001b[1;33m\u001b[0m\u001b[0m\n\u001b[0;32m     14\u001b[0m \u001b[1;33m\u001b[0m\u001b[0m\n\u001b[1;32m---> 15\u001b[1;33m     \u001b[1;32mfor\u001b[0m \u001b[0m_\u001b[0m\u001b[1;33m,\u001b[0m \u001b[0mnode\u001b[0m \u001b[1;32min\u001b[0m \u001b[0miterparse\u001b[0m\u001b[1;33m(\u001b[0m\u001b[0mxml_source\u001b[0m\u001b[1;33m)\u001b[0m\u001b[1;33m:\u001b[0m\u001b[1;33m\u001b[0m\u001b[1;33m\u001b[0m\u001b[0m\n\u001b[0m\u001b[0;32m     16\u001b[0m         \u001b[1;32mif\u001b[0m \u001b[0mnode\u001b[0m\u001b[1;33m.\u001b[0m\u001b[0mtag\u001b[0m \u001b[1;33m==\u001b[0m \u001b[0mSTRING_TAG\u001b[0m\u001b[1;33m:\u001b[0m\u001b[1;33m\u001b[0m\u001b[1;33m\u001b[0m\u001b[0m\n\u001b[0;32m     17\u001b[0m             \u001b[0mtext\u001b[0m \u001b[1;33m=\u001b[0m \u001b[0mText\u001b[0m\u001b[1;33m.\u001b[0m\u001b[0mfrom_tree\u001b[0m\u001b[1;33m(\u001b[0m\u001b[0mnode\u001b[0m\u001b[1;33m)\u001b[0m\u001b[1;33m.\u001b[0m\u001b[0mcontent\u001b[0m\u001b[1;33m\u001b[0m\u001b[1;33m\u001b[0m\u001b[0m\n",
      "\u001b[1;32m~\\AppData\\Local\\Continuum\\anaconda3\\lib\\xml\\etree\\ElementTree.py\u001b[0m in \u001b[0;36miterator\u001b[1;34m()\u001b[0m\n\u001b[0;32m   1222\u001b[0m                 \u001b[1;32myield\u001b[0m \u001b[1;32mfrom\u001b[0m \u001b[0mpullparser\u001b[0m\u001b[1;33m.\u001b[0m\u001b[0mread_events\u001b[0m\u001b[1;33m(\u001b[0m\u001b[1;33m)\u001b[0m\u001b[1;33m\u001b[0m\u001b[1;33m\u001b[0m\u001b[0m\n\u001b[0;32m   1223\u001b[0m                 \u001b[1;31m# load event buffer\u001b[0m\u001b[1;33m\u001b[0m\u001b[1;33m\u001b[0m\u001b[1;33m\u001b[0m\u001b[0m\n\u001b[1;32m-> 1224\u001b[1;33m                 \u001b[0mdata\u001b[0m \u001b[1;33m=\u001b[0m \u001b[0msource\u001b[0m\u001b[1;33m.\u001b[0m\u001b[0mread\u001b[0m\u001b[1;33m(\u001b[0m\u001b[1;36m16\u001b[0m \u001b[1;33m*\u001b[0m \u001b[1;36m1024\u001b[0m\u001b[1;33m)\u001b[0m\u001b[1;33m\u001b[0m\u001b[1;33m\u001b[0m\u001b[0m\n\u001b[0m\u001b[0;32m   1225\u001b[0m                 \u001b[1;32mif\u001b[0m \u001b[1;32mnot\u001b[0m \u001b[0mdata\u001b[0m\u001b[1;33m:\u001b[0m\u001b[1;33m\u001b[0m\u001b[1;33m\u001b[0m\u001b[0m\n\u001b[0;32m   1226\u001b[0m                     \u001b[1;32mbreak\u001b[0m\u001b[1;33m\u001b[0m\u001b[1;33m\u001b[0m\u001b[0m\n",
      "\u001b[1;32m~\\AppData\\Local\\Continuum\\anaconda3\\lib\\zipfile.py\u001b[0m in \u001b[0;36mread\u001b[1;34m(self, n)\u001b[0m\n\u001b[0;32m    897\u001b[0m         \u001b[0mself\u001b[0m\u001b[1;33m.\u001b[0m\u001b[0m_offset\u001b[0m \u001b[1;33m=\u001b[0m \u001b[1;36m0\u001b[0m\u001b[1;33m\u001b[0m\u001b[1;33m\u001b[0m\u001b[0m\n\u001b[0;32m    898\u001b[0m         \u001b[1;32mwhile\u001b[0m \u001b[0mn\u001b[0m \u001b[1;33m>\u001b[0m \u001b[1;36m0\u001b[0m \u001b[1;32mand\u001b[0m \u001b[1;32mnot\u001b[0m \u001b[0mself\u001b[0m\u001b[1;33m.\u001b[0m\u001b[0m_eof\u001b[0m\u001b[1;33m:\u001b[0m\u001b[1;33m\u001b[0m\u001b[1;33m\u001b[0m\u001b[0m\n\u001b[1;32m--> 899\u001b[1;33m             \u001b[0mdata\u001b[0m \u001b[1;33m=\u001b[0m \u001b[0mself\u001b[0m\u001b[1;33m.\u001b[0m\u001b[0m_read1\u001b[0m\u001b[1;33m(\u001b[0m\u001b[0mn\u001b[0m\u001b[1;33m)\u001b[0m\u001b[1;33m\u001b[0m\u001b[1;33m\u001b[0m\u001b[0m\n\u001b[0m\u001b[0;32m    900\u001b[0m             \u001b[1;32mif\u001b[0m \u001b[0mn\u001b[0m \u001b[1;33m<\u001b[0m \u001b[0mlen\u001b[0m\u001b[1;33m(\u001b[0m\u001b[0mdata\u001b[0m\u001b[1;33m)\u001b[0m\u001b[1;33m:\u001b[0m\u001b[1;33m\u001b[0m\u001b[1;33m\u001b[0m\u001b[0m\n\u001b[0;32m    901\u001b[0m                 \u001b[0mself\u001b[0m\u001b[1;33m.\u001b[0m\u001b[0m_readbuffer\u001b[0m \u001b[1;33m=\u001b[0m \u001b[0mdata\u001b[0m\u001b[1;33m\u001b[0m\u001b[1;33m\u001b[0m\u001b[0m\n",
      "\u001b[1;32m~\\AppData\\Local\\Continuum\\anaconda3\\lib\\zipfile.py\u001b[0m in \u001b[0;36m_read1\u001b[1;34m(self, n)\u001b[0m\n\u001b[0;32m    973\u001b[0m         \u001b[1;32melif\u001b[0m \u001b[0mself\u001b[0m\u001b[1;33m.\u001b[0m\u001b[0m_compress_type\u001b[0m \u001b[1;33m==\u001b[0m \u001b[0mZIP_DEFLATED\u001b[0m\u001b[1;33m:\u001b[0m\u001b[1;33m\u001b[0m\u001b[1;33m\u001b[0m\u001b[0m\n\u001b[0;32m    974\u001b[0m             \u001b[0mn\u001b[0m \u001b[1;33m=\u001b[0m \u001b[0mmax\u001b[0m\u001b[1;33m(\u001b[0m\u001b[0mn\u001b[0m\u001b[1;33m,\u001b[0m \u001b[0mself\u001b[0m\u001b[1;33m.\u001b[0m\u001b[0mMIN_READ_SIZE\u001b[0m\u001b[1;33m)\u001b[0m\u001b[1;33m\u001b[0m\u001b[1;33m\u001b[0m\u001b[0m\n\u001b[1;32m--> 975\u001b[1;33m             \u001b[0mdata\u001b[0m \u001b[1;33m=\u001b[0m \u001b[0mself\u001b[0m\u001b[1;33m.\u001b[0m\u001b[0m_decompressor\u001b[0m\u001b[1;33m.\u001b[0m\u001b[0mdecompress\u001b[0m\u001b[1;33m(\u001b[0m\u001b[0mdata\u001b[0m\u001b[1;33m,\u001b[0m \u001b[0mn\u001b[0m\u001b[1;33m)\u001b[0m\u001b[1;33m\u001b[0m\u001b[1;33m\u001b[0m\u001b[0m\n\u001b[0m\u001b[0;32m    976\u001b[0m             self._eof = (self._decompressor.eof or\n\u001b[0;32m    977\u001b[0m                          \u001b[0mself\u001b[0m\u001b[1;33m.\u001b[0m\u001b[0m_compress_left\u001b[0m \u001b[1;33m<=\u001b[0m \u001b[1;36m0\u001b[0m \u001b[1;32mand\u001b[0m\u001b[1;33m\u001b[0m\u001b[1;33m\u001b[0m\u001b[0m\n",
      "\u001b[1;31mKeyboardInterrupt\u001b[0m: "
     ]
    }
   ],
   "source": [
    "#主函数\n",
    "for number in range(1,21): #不同的试卷数量，此处为20套\n",
    "    #生成随机题目编号    \n",
    "    num_single_choice = Random_num(566,40)\n",
    "    num_mult_choice = Random_num(196,20)\n",
    "    num_judgment = Random_num(418,10)\n",
    "    num_completion = Random_num(190,10)\n",
    "    #将生成的编号存入字典`question_num`\n",
    "    question_num = {\"单选题号\":num_single_choice,\n",
    "           \"多选题号\":num_mult_choice,\n",
    "            \"判断题号\":num_judgment,\n",
    "            \"填空题号\":num_completion\n",
    "           }\n",
    "    #根据随机生成的题目编号去题库选题，并存入`questions_data`\n",
    "    questions_data = {\n",
    "        \"单选题\":Question(\"单选题\",question_num[\"单选题号\"]),\n",
    "        \"多选题\":Question(\"多选题\",question_num[\"多选题号\"]),\n",
    "        \"判断题\":Question(\"判断题\",question_num[\"判断题号\"]),\n",
    "        \"填空题\":Question(\"填空题\",question_num[\"填空题号\"])\n",
    "    }\n",
    "    #将试题写入word文档，并保存\n",
    "    To_word(number,questions_data)\n",
    "    #将试题答案写入word文档，并保存\n",
    "    Answer(number,questions_data)\n",
    "    print(f\"试卷{number}及答案完成！\")"
   ]
  },
  {
   "cell_type": "markdown",
   "metadata": {},
   "source": [
    "生成的文件，试题内容和答案内容如下所示，Perfect!\n",
    "![](images\\result_docu.PNG)\n",
    "![](images\\result1.PNG)\n",
    "![](images\\result2.PNG)\n",
    "除了让每个学生的题目不一样？这个程序还能做什么呢？任你想象。"
   ]
  }
 ],
 "metadata": {
  "kernelspec": {
   "display_name": "Python 3",
   "language": "python",
   "name": "python3"
  },
  "language_info": {
   "codemirror_mode": {
    "name": "ipython",
    "version": 3
   },
   "file_extension": ".py",
   "mimetype": "text/x-python",
   "name": "python",
   "nbconvert_exporter": "python",
   "pygments_lexer": "ipython3",
   "version": "3.7.1"
  }
 },
 "nbformat": 4,
 "nbformat_minor": 2
}
